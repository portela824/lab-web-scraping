{
 "cells": [
  {
   "cell_type": "markdown",
   "id": "7e7a1ab8-2599-417d-9a65-25ef07f3a786",
   "metadata": {
    "id": "7e7a1ab8-2599-417d-9a65-25ef07f3a786"
   },
   "source": [
    "# Lab | Web Scraping"
   ]
  },
  {
   "cell_type": "code",
   "execution_count": null,
   "id": "4639dd48",
   "metadata": {},
   "outputs": [],
   "source": [
    "# José G. Portela"
   ]
  },
  {
   "cell_type": "markdown",
   "id": "ce8882fc-4815-4567-92fa-b4816358ba7d",
   "metadata": {
    "id": "ce8882fc-4815-4567-92fa-b4816358ba7d"
   },
   "source": [
    "Welcome to the IMDb Web Scraping Adventure Lab!\n",
    "\n",
    "**Objective**\n",
    "\n",
    "In this lab, we will embark on a mission to unearth valuable insights from the vast sea of data available on IMDb, one of the largest online databases of movie, TV, and celebrity information. As budding data scientists and business analysts, you have been tasked to scrape a specific subset of data from IMDb to assist film production companies in understanding the landscape of highly-rated movies in a defined time period. Your insights will potentially influence the making of the next netflix movie!\n",
    "\n",
    "**Background**\n",
    "\n",
    "In a world where data has become the new currency, businesses are leveraging big data to make informed decisions that drive success and profitability. The entertainment industry, being no exception, utilizes data analytics to comprehend market trends, audience preferences, and the performance of films based on various parameters such as director, genre, stars involved, etc. IMDb stands as a goldmine of such data, offering intricate details of almost every movie ever made.\n",
    "\n",
    "**Task**\n",
    "\n",
    "Your task is to create a Python script using `BeautifulSoup` and `pandas` to scrape IMDb movie data based on user ratings and release dates. This script should be able to filter movies with ratings above a certain threshold and within a specified date range.\n",
    "\n",
    "**Expected Outcome**\n",
    "\n",
    "- A function named `scrape_imdb` that takes four parameters: `title_type`,`user_rating`, `start_date`, and `end_date`.\n",
    "- The function should return a DataFrame with the following columns:\n",
    "  - **Movie Nr**: The number representing the movie’s position in the list.\n",
    "  - **Title**: The title of the movie.\n",
    "  - **Year**: The year the movie was released.\n",
    "  - **Rating**: The IMDb rating of the movie.\n",
    "  - **Runtime (min)**: The duration of the movie in minutes.\n",
    "  - **Genre**: The genre of the movie.\n",
    "  - **Description**: A brief description of the movie.\n",
    "  - **Director**: The director of the movie.\n",
    "  - **Stars**: The main stars of the movie.\n",
    "  - **Votes**: The number of votes the movie received.\n",
    "  - **Gross ($M)**: The gross earnings of the movie in millions of USD.\n",
    "\n",
    "You will execute this script to scrape data for movies with the Title Type `Feature Film` that have a user rating of `7.5 and above` and were released between `January 1, 1990, and December 31, 1992`.\n",
    "\n",
    "Remember to experiment with different title types, dates and ratings to ensure your code is versatile and can handle various searches effectively!\n",
    "\n",
    "**Resources**\n",
    "\n",
    "- [Beautiful Soup Documentation](https://www.crummy.com/software/BeautifulSoup/bs4/doc/)\n",
    "- [Pandas Documentation](https://pandas.pydata.org/pandas-docs/stable/index.html)\n",
    "- [IMDb Advanced Search](https://www.imdb.com/search/title/)\n"
   ]
  },
  {
   "cell_type": "markdown",
   "id": "3519921d-5890-445b-9a33-934ed8ee378c",
   "metadata": {
    "id": "3519921d-5890-445b-9a33-934ed8ee378c"
   },
   "source": [
    "**Hint**\n",
    "\n",
    "Your first mission is to familiarize yourself with the IMDb advanced search page. Head over to [IMDb advanced search](https://www.imdb.com/search/title/) and input the following parameters, keeping all other fields to their default values or blank:\n",
    "\n",
    "- **Title Type**: Feature film\n",
    "- **Release date**: From 1990 to 1992 (Note: You don't need to specify the day and month)\n",
    "- **User Rating**: 7.5 to -\n",
    "\n",
    "Upon searching, you'll land on a page showcasing a list of movies, each displaying vital details such as the title, release year, and crew information. Your task is to scrape this treasure trove of data.\n",
    "\n",
    "Carefully examine the resulting URL and construct your own URL to include all the necessary parameters for filtering the movies."
   ]
  },
  {
   "cell_type": "markdown",
   "id": "25a83a0d-a742-49f6-985e-e27887cbf922",
   "metadata": {
    "id": "25a83a0d-a742-49f6-985e-e27887cbf922"
   },
   "source": [
    "\n",
    "---\n",
    "\n",
    "**Best of luck! Immerse yourself in the world of movies and may the data be with you!**"
   ]
  },
  {
   "cell_type": "markdown",
   "id": "7b75cf0d-9afa-4eec-a9e2-befeac68b2a0",
   "metadata": {
    "id": "7b75cf0d-9afa-4eec-a9e2-befeac68b2a0"
   },
   "source": [
    "**Important note**:\n",
    "\n",
    "In the fast-changing online world, websites often get updates and make changes. When you try this lab, the IMDb website might be different from what we expect.\n",
    "\n",
    "If you run into problems because of these changes, like new rules or things that stop you from getting data, don't worry! Instead, get creative.\n",
    "\n",
    "You can choose another website that interests you and is good for scraping data. Websites like Wikipedia or The New York Times are good options. The main goal is still the same: get useful data and learn how to scrape it from a website that you find interesting. It's a chance to practice your web scraping skills and explore a source of information you like."
   ]
  },
  {
   "cell_type": "code",
   "execution_count": 1,
   "id": "40359eee-9cd7-4884-bfa4-83344c222305",
   "metadata": {
    "ExecuteTime": {
     "end_time": "2023-12-21T17:39:31.966567Z",
     "start_time": "2023-12-21T17:39:23.933230Z"
    },
    "id": "40359eee-9cd7-4884-bfa4-83344c222305"
   },
   "outputs": [],
   "source": [
    "import requests\n",
    "from bs4 import BeautifulSoup\n",
    "import pandas as pd\n",
    "\n",
    "def scrape_imdb(title_type, user_rating, start_date, end_date):\n",
    "    base_url = \"https://www.imdb.com/search/title/\"\n",
    "    query_params = {\n",
    "        \"title_type\": title_type,\n",
    "        \"user_rating\": user_rating,\n",
    "        \"release_date\": f\"{start_date}-01-01,{end_date}-12-31\",\n",
    "    }\n",
    "    response = requests.get(base_url, params=query_params)\n",
    "    if response.status_code == 200:\n",
    "        soup = BeautifulSoup(response.content, \"html.parser\")\n",
    "        movies = soup.find_all(\"div\", class_=\"lister-item-content\")\n",
    "        \n",
    "        movie_data = {\n",
    "            \"Movie Nr\": [],\n",
    "            \"Title\": [],\n",
    "            \"Year\": [],\n",
    "            \"Rating\": [],\n",
    "            \"Runtime (min)\": [],\n",
    "            \"Genre\": [],\n",
    "            \"Description\": [],\n",
    "            \"Director\": [],\n",
    "            \"Stars\": [],\n",
    "            \"Votes\": [],\n",
    "            \"Gross ($M)\": [],\n",
    "        }\n",
    "\n",
    "        for i, movie in enumerate(movies, start=1):\n",
    "            title = movie.h3.a.text\n",
    "            year = movie.h3.find(\"span\", class_=\"lister-item-year\").text.strip(\"()\")\n",
    "            rating = movie.find(\"div\", class_=\"ratings-bar\").strong.text\n",
    "            runtime = movie.find(\"span\", class_=\"runtime\").text.strip(\" min\")\n",
    "            genre = movie.find(\"span\", class_=\"genre\").text.strip()\n",
    "            description = movie.find_all(\"p\", class_=\"text-muted\")[-1].text.strip()\n",
    "            director = movie.find(\"p\", class_=\"\").find_all(\"a\")[0].text.strip()\n",
    "            stars = [star.text.strip() for star in movie.find(\"p\", class_=\"\").find_all(\"a\")[1:]]\n",
    "            votes = movie.find(\"span\", {\"name\": \"nv\"})[\"data-value\"]\n",
    "            gross = movie.find(\"span\", class_=\"text-muted\").find(\"span\", {\"data-value\": True})\n",
    "            gross = gross.text.strip() if gross else None\n",
    "\n",
    "           \n",
    "            movie_data[\"Movie Nr\"].append(i)\n",
    "            movie_data[\"Title\"].append(title)\n",
    "            movie_data[\"Year\"].append(year)\n",
    "            movie_data[\"Rating\"].append(rating)\n",
    "            movie_data[\"Runtime (min)\"].append(runtime)\n",
    "            movie_data[\"Genre\"].append(genre)\n",
    "            movie_data[\"Description\"].append(description)\n",
    "            movie_data[\"Director\"].append(director)\n",
    "            movie_data[\"Stars\"].append(\", \".join(stars))\n",
    "            movie_data[\"Votes\"].append(votes)\n",
    "            movie_data[\"Gross ($M)\"].append(gross)\n",
    "\n",
    "        \n",
    "        df = pd.DataFrame(movie_data)\n",
    "        return df\n",
    "\n",
    "    else:\n",
    "        print(f\"Failed to retrieve data. Status code: {response.status_code}\")\n",
    "        return None\n"
   ]
  },
  {
   "cell_type": "code",
   "execution_count": 2,
   "id": "08723758",
   "metadata": {
    "ExecuteTime": {
     "end_time": "2023-12-21T17:39:37.842339Z",
     "start_time": "2023-12-21T17:39:37.199660Z"
    }
   },
   "outputs": [
    {
     "name": "stdout",
     "output_type": "stream",
     "text": [
      "Failed to retrieve data. Status code: 403\n"
     ]
    }
   ],
   "source": [
    "scrape_imdb(title_type=\"feature\", user_rating=\"7.5-\", start_date=\"1990\", end_date=\"1992\")"
   ]
  },
  {
   "cell_type": "markdown",
   "id": "9ab1217a-df9d-4a2b-a32c-2c5f1eecd52a",
   "metadata": {
    "id": "9ab1217a-df9d-4a2b-a32c-2c5f1eecd52a"
   },
   "source": [
    "## BONUS\n",
    "\n",
    "The search results span multiple pages, housing a total of 631 movies in our example with each page displaying 50 movies at most. To scrape data seamlessly from all pages, you'll need to dive deep into the structure of the URLs generated with each \"Next\" click.\n",
    "\n",
    "Take a close look at the following URLs:\n",
    "- First page:\n",
    "  ```\n",
    "  https://www.imdb.com/search/title/?title_type=feature&release_date=1990-01-01,1992-12-31&user_rating=7.5,\n",
    "  ```\n",
    "- Second page:\n",
    "  ```\n",
    "  https://www.imdb.com/search/title/?title_type=feature&release_date=1990-01-01,1992-12-31&user_rating=7.5,&start=51&ref_=adv_nxt\n",
    "  ```\n",
    "- Third page:\n",
    "  ```\n",
    "  https://www.imdb.com/search/title/?title_type=feature&release_date=1990-01-01,1992-12-31&user_rating=7.5,&start=101&ref_=adv_nxt\n",
    "  ```\n",
    "\n",
    "You should notice a pattern. There is a `start` parameter incrementing by 50 with each page, paired with a constant `ref_` parameter holding the value \"adv_nxt\".\n",
    "\n",
    "Modify your script so it's capable of iterating over all available pages to fetch data on all the 631 movies (631 is the total number of movies in the proposed example)."
   ]
  },
  {
   "cell_type": "code",
   "execution_count": 6,
   "id": "21ac4fc0-a12b-4a00-9266-2020166f0dea",
   "metadata": {
    "ExecuteTime": {
     "end_time": "2023-12-21T17:45:02.652627Z",
     "start_time": "2023-12-21T17:45:02.633679Z"
    },
    "id": "21ac4fc0-a12b-4a00-9266-2020166f0dea"
   },
   "outputs": [],
   "source": [
    "import requests\n",
    "from bs4 import BeautifulSoup\n",
    "import pandas as pd\n",
    "\n",
    "def scrape_imdb(title_type, user_rating, start_date, end_date):\n",
    "    base_url = \"https://www.imdb.com/search/title/\"\n",
    "    \n",
    "    start = 1\n",
    "    total_movies = 631  \n",
    "    movies_per_page = 50\n",
    "    \n",
    "    movie_data = {\n",
    "        \"Movie Nr\": [],\n",
    "        \"Title\": [],\n",
    "        \"Year\": [],\n",
    "        \"Rating\": [],\n",
    "        \"Runtime (min)\": [],\n",
    "        \"Genre\": [],\n",
    "        \"Description\": [],\n",
    "        \"Director\": [],\n",
    "        \"Stars\": [],\n",
    "        \"Votes\": [],\n",
    "        \"Gross ($M)\": [],\n",
    "    }\n",
    "\n",
    "    while start <= total_movies:\n",
    "        query_params = {\n",
    "            \"title_type\": title_type,\n",
    "            \"user_rating\": user_rating,\n",
    "            \"release_date\": f\"{start_date}-01-01,{end_date}-12-31\",\n",
    "            \"start\": start,\n",
    "            \"ref_\": \"adv_nxt\",\n",
    "        }\n",
    "        response = requests.get(base_url, params=query_params)\n",
    "        \n",
    "        if response.status_code == 200:\n",
    "            soup = BeautifulSoup(response.content, \"html.parser\")\n",
    "            \n",
    "            movies = soup.find_all(\"div\", class_=\"lister-item-content\")\n",
    "            \n",
    "            for i, movie in enumerate(movies, start=start):\n",
    "\n",
    "                movie_data[\"Movie Nr\"].append(i)\n",
    "                movie_data[\"Title\"].append(title)\n",
    "                movie_data[\"Year\"].append(year)\n",
    "                movie_data[\"Rating\"].append(rating)\n",
    "                movie_data[\"Runtime (min)\"].append(runtime)\n",
    "                movie_data[\"Genre\"].append(genre)\n",
    "                movie_data[\"Description\"].append(description)\n",
    "                movie_data[\"Director\"].append(director)\n",
    "                movie_data[\"Stars\"].append(\", \".join(stars))\n",
    "                movie_data[\"Votes\"].append(votes)\n",
    "                movie_data[\"Gross ($M)\"].append(gross)\n",
    "\n",
    "        else:\n",
    "            print(f\"Failed to retrieve data for start={start}. Status code: {response.status_code}\")\n",
    "        \n",
    "        start += movies_per_page\n",
    "\n",
    "    df = pd.DataFrame(movie_data)\n",
    "    return df\n"
   ]
  },
  {
   "cell_type": "code",
   "execution_count": 7,
   "id": "9d3c4152",
   "metadata": {
    "ExecuteTime": {
     "end_time": "2023-12-21T17:45:11.657792Z",
     "start_time": "2023-12-21T17:45:07.474977Z"
    }
   },
   "outputs": [
    {
     "name": "stdout",
     "output_type": "stream",
     "text": [
      "Failed to retrieve data for start=1. Status code: 403\n",
      "Failed to retrieve data for start=51. Status code: 403\n",
      "Failed to retrieve data for start=101. Status code: 403\n",
      "Failed to retrieve data for start=151. Status code: 403\n",
      "Failed to retrieve data for start=201. Status code: 403\n",
      "Failed to retrieve data for start=251. Status code: 403\n",
      "Failed to retrieve data for start=301. Status code: 403\n",
      "Failed to retrieve data for start=351. Status code: 403\n",
      "Failed to retrieve data for start=401. Status code: 403\n",
      "Failed to retrieve data for start=451. Status code: 403\n",
      "Failed to retrieve data for start=501. Status code: 403\n",
      "Failed to retrieve data for start=551. Status code: 403\n",
      "Failed to retrieve data for start=601. Status code: 403\n",
      "Empty DataFrame\n",
      "Columns: [Movie Nr, Title, Year, Rating, Runtime (min), Genre, Description, Director, Stars, Votes, Gross ($M)]\n",
      "Index: []\n"
     ]
    }
   ],
   "source": [
    "result_df = scrape_imdb(title_type=\"feature\", user_rating=\"7.5-\", start_date=\"1990\", end_date=\"1992\")\n",
    "print(result_df)\n"
   ]
  }
 ],
 "metadata": {
  "colab": {
   "provenance": []
  },
  "kernelspec": {
   "display_name": "Python 3 (ipykernel)",
   "language": "python",
   "name": "python3"
  },
  "language_info": {
   "codemirror_mode": {
    "name": "ipython",
    "version": 3
   },
   "file_extension": ".py",
   "mimetype": "text/x-python",
   "name": "python",
   "nbconvert_exporter": "python",
   "pygments_lexer": "ipython3",
   "version": "3.9.13"
  },
  "toc": {
   "base_numbering": 1,
   "nav_menu": {},
   "number_sections": true,
   "sideBar": true,
   "skip_h1_title": false,
   "title_cell": "Table of Contents",
   "title_sidebar": "Contents",
   "toc_cell": false,
   "toc_position": {},
   "toc_section_display": true,
   "toc_window_display": false
  },
  "varInspector": {
   "cols": {
    "lenName": 16,
    "lenType": 16,
    "lenVar": 40
   },
   "kernels_config": {
    "python": {
     "delete_cmd_postfix": "",
     "delete_cmd_prefix": "del ",
     "library": "var_list.py",
     "varRefreshCmd": "print(var_dic_list())"
    },
    "r": {
     "delete_cmd_postfix": ") ",
     "delete_cmd_prefix": "rm(",
     "library": "var_list.r",
     "varRefreshCmd": "cat(var_dic_list()) "
    }
   },
   "types_to_exclude": [
    "module",
    "function",
    "builtin_function_or_method",
    "instance",
    "_Feature"
   ],
   "window_display": false
  }
 },
 "nbformat": 4,
 "nbformat_minor": 5
}
